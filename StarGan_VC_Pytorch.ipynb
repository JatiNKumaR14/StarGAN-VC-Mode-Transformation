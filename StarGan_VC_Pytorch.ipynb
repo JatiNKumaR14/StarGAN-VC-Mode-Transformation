{
 "cells": [
  {
   "cell_type": "code",
   "execution_count": 3,
   "metadata": {
    "colab": {
     "base_uri": "https://localhost:8080/"
    },
    "executionInfo": {
     "elapsed": 20132,
     "status": "ok",
     "timestamp": 1648545458287,
     "user": {
      "displayName": "Zat Singh",
      "userId": "14089293020842727171"
     },
     "user_tz": -330
    },
    "id": "waUUZMRc12zg",
    "outputId": "c212afb1-fb39-46e8-816c-c353a82e3392"
   },
   "outputs": [
    {
     "name": "stdout",
     "output_type": "stream",
     "text": [
      "Mounted at /content/drive\n"
     ]
    }
   ],
   "source": [
    "from google.colab import drive\n",
    "\n",
    "drive.mount('/content/drive')\n"
   ]
  },
  {
   "cell_type": "code",
   "execution_count": null,
   "metadata": {
    "colab": {
     "base_uri": "https://localhost:8080/"
    },
    "executionInfo": {
     "elapsed": 16,
     "status": "ok",
     "timestamp": 1648519725612,
     "user": {
      "displayName": "Zat Singh",
      "userId": "14089293020842727171"
     },
     "user_tz": -330
    },
    "id": "DPLtKrUW6u1U",
    "outputId": "d15731ba-b54c-463a-8876-c59eb8584dc8"
   },
   "outputs": [
    {
     "name": "stdout",
     "output_type": "stream",
     "text": [
      "Python 3.7.13\n"
     ]
    }
   ],
   "source": [
    "! python --version"
   ]
  },
  {
   "cell_type": "code",
   "execution_count": null,
   "metadata": {
    "id": "Qx1RsBjNMKge"
   },
   "outputs": [],
   "source": [
    "# ! pip install numpy==1.16.2"
   ]
  },
  {
   "cell_type": "code",
   "execution_count": null,
   "metadata": {
    "id": "iY1WGgOYL7Ry"
   },
   "outputs": [],
   "source": [
    "# import numpy as np \n",
    "# np.__version__"
   ]
  },
  {
   "cell_type": "code",
   "execution_count": 4,
   "metadata": {
    "colab": {
     "base_uri": "https://localhost:8080/"
    },
    "executionInfo": {
     "elapsed": 24,
     "status": "ok",
     "timestamp": 1648545458288,
     "user": {
      "displayName": "Zat Singh",
      "userId": "14089293020842727171"
     },
     "user_tz": -330
    },
    "id": "XE6cd8i9ibC2",
    "outputId": "7398d9ef-8314-4cac-fb71-a998cfac923e"
   },
   "outputs": [
    {
     "name": "stdout",
     "output_type": "stream",
     "text": [
      "\u001b[0m\u001b[01;34mdrive\u001b[0m/  \u001b[01;34msample_data\u001b[0m/\n"
     ]
    }
   ],
   "source": [
    "%ls"
   ]
  },
  {
   "cell_type": "code",
   "execution_count": 5,
   "metadata": {
    "colab": {
     "base_uri": "https://localhost:8080/"
    },
    "executionInfo": {
     "elapsed": 15,
     "status": "ok",
     "timestamp": 1648545458289,
     "user": {
      "displayName": "Zat Singh",
      "userId": "14089293020842727171"
     },
     "user_tz": -330
    },
    "id": "g7LiPiyWjWpu",
    "outputId": "e5e5b8ea-3596-40c1-9f20-041f1be052b3"
   },
   "outputs": [
    {
     "name": "stdout",
     "output_type": "stream",
     "text": [
      "/content/drive/MyDrive/project_speech/pytorch-StarGAN-VC\n"
     ]
    }
   ],
   "source": [
    "%cd /content/drive/MyDrive/project_speech/pytorch-StarGAN-VC/"
   ]
  },
  {
   "cell_type": "code",
   "execution_count": 6,
   "metadata": {
    "colab": {
     "base_uri": "https://localhost:8080/"
    },
    "executionInfo": {
     "elapsed": 652,
     "status": "ok",
     "timestamp": 1648545458932,
     "user": {
      "displayName": "Zat Singh",
      "userId": "14089293020842727171"
     },
     "user_tz": -330
    },
    "id": "xfhcgmvdQQtp",
    "outputId": "feba154b-4308-45ff-fba5-dc071414ab34"
   },
   "outputs": [
    {
     "name": "stdout",
     "output_type": "stream",
     "text": [
      "\u001b[0m\u001b[01;34mdata\u001b[0m/           logger.py  preprocess.py  \u001b[01;34msamples\u001b[0m/    utility.py\n",
      "data_loader.py  main.py    \u001b[01;34m__pycache__\u001b[0m/   solver.py\n",
      "\u001b[01;34metc\u001b[0m/            model.py   README.md      \u001b[01;34mstarganvc\u001b[0m/\n"
     ]
    }
   ],
   "source": [
    "%ls"
   ]
  },
  {
   "cell_type": "code",
   "execution_count": 7,
   "metadata": {
    "colab": {
     "base_uri": "https://localhost:8080/"
    },
    "executionInfo": {
     "elapsed": 31307,
     "status": "ok",
     "timestamp": 1648545490235,
     "user": {
      "displayName": "Zat Singh",
      "userId": "14089293020842727171"
     },
     "user_tz": -330
    },
    "id": "636WrRAYROhl",
    "outputId": "cb97b26b-fbc1-45a5-fa29-d9da878c9dc2"
   },
   "outputs": [
    {
     "name": "stdout",
     "output_type": "stream",
     "text": [
      "Collecting pyworld\n",
      "  Downloading pyworld-0.3.0.tar.gz (212 kB)\n",
      "\u001b[?25l\r",
      "\u001b[K     |█▌                              | 10 kB 21.3 MB/s eta 0:00:01\r",
      "\u001b[K     |███                             | 20 kB 7.9 MB/s eta 0:00:01\r",
      "\u001b[K     |████▋                           | 30 kB 6.9 MB/s eta 0:00:01\r",
      "\u001b[K     |██████▏                         | 40 kB 6.5 MB/s eta 0:00:01\r",
      "\u001b[K     |███████▊                        | 51 kB 4.1 MB/s eta 0:00:01\r",
      "\u001b[K     |█████████▎                      | 61 kB 4.8 MB/s eta 0:00:01\r",
      "\u001b[K     |██████████▉                     | 71 kB 5.2 MB/s eta 0:00:01\r",
      "\u001b[K     |████████████▍                   | 81 kB 4.3 MB/s eta 0:00:01\r",
      "\u001b[K     |██████████████                  | 92 kB 4.8 MB/s eta 0:00:01\r",
      "\u001b[K     |███████████████▌                | 102 kB 5.2 MB/s eta 0:00:01\r",
      "\u001b[K     |█████████████████               | 112 kB 5.2 MB/s eta 0:00:01\r",
      "\u001b[K     |██████████████████▌             | 122 kB 5.2 MB/s eta 0:00:01\r",
      "\u001b[K     |████████████████████            | 133 kB 5.2 MB/s eta 0:00:01\r",
      "\u001b[K     |█████████████████████▋          | 143 kB 5.2 MB/s eta 0:00:01\r",
      "\u001b[K     |███████████████████████▏        | 153 kB 5.2 MB/s eta 0:00:01\r",
      "\u001b[K     |████████████████████████▊       | 163 kB 5.2 MB/s eta 0:00:01\r",
      "\u001b[K     |██████████████████████████▎     | 174 kB 5.2 MB/s eta 0:00:01\r",
      "\u001b[K     |███████████████████████████▉    | 184 kB 5.2 MB/s eta 0:00:01\r",
      "\u001b[K     |█████████████████████████████▍  | 194 kB 5.2 MB/s eta 0:00:01\r",
      "\u001b[K     |███████████████████████████████ | 204 kB 5.2 MB/s eta 0:00:01\r",
      "\u001b[K     |████████████████████████████████| 212 kB 5.2 MB/s \n",
      "\u001b[?25h  Installing build dependencies ... \u001b[?25l\u001b[?25hdone\n",
      "  Getting requirements to build wheel ... \u001b[?25l\u001b[?25hdone\n",
      "    Preparing wheel metadata ... \u001b[?25l\u001b[?25hdone\n",
      "Requirement already satisfied: numpy in /usr/local/lib/python3.7/dist-packages (from pyworld) (1.21.5)\n",
      "Requirement already satisfied: cython>=0.24.0 in /usr/local/lib/python3.7/dist-packages (from pyworld) (0.29.28)\n",
      "Building wheels for collected packages: pyworld\n",
      "  Building wheel for pyworld (PEP 517) ... \u001b[?25l\u001b[?25hdone\n",
      "  Created wheel for pyworld: filename=pyworld-0.3.0-cp37-cp37m-linux_x86_64.whl size=609507 sha256=e2fd644be4a5dc84e4edc181476dad1484ed9531a89093536895607fa58193e9\n",
      "  Stored in directory: /root/.cache/pip/wheels/e7/7c/11/c775fffa0e1e7b05a6604b4323408a77f80fb4ab304d96b5c6\n",
      "Successfully built pyworld\n",
      "Installing collected packages: pyworld\n",
      "Successfully installed pyworld-0.3.0\n"
     ]
    }
   ],
   "source": [
    "!pip install pyworld"
   ]
  },
  {
   "cell_type": "code",
   "execution_count": null,
   "metadata": {
    "colab": {
     "base_uri": "https://localhost:8080/",
     "height": 37
    },
    "executionInfo": {
     "elapsed": 2926,
     "status": "ok",
     "timestamp": 1648519776610,
     "user": {
      "displayName": "Zat Singh",
      "userId": "14089293020842727171"
     },
     "user_tz": -330
    },
    "id": "_NDCp0XQRTzx",
    "outputId": "3adb4006-9048-4535-9516-1c3a9f5f980c"
   },
   "outputs": [
    {
     "data": {
      "application/vnd.google.colaboratory.intrinsic+json": {
       "type": "string"
      },
      "text/plain": [
       "'2.8.0'"
      ]
     },
     "execution_count": 14,
     "metadata": {},
     "output_type": "execute_result"
    }
   ],
   "source": [
    "import tensorflow as tf\n",
    "tf.__version__"
   ]
  },
  {
   "cell_type": "code",
   "execution_count": 23,
   "metadata": {
    "colab": {
     "base_uri": "https://localhost:8080/"
    },
    "executionInfo": {
     "elapsed": 1185,
     "status": "ok",
     "timestamp": 1648531392442,
     "user": {
      "displayName": "Zat Singh",
      "userId": "14089293020842727171"
     },
     "user_tz": -330
    },
    "id": "1xwXFzGFNV4Q",
    "outputId": "d100a9d1-e4eb-4823-c624-0befe26d4454"
   },
   "outputs": [
    {
     "name": "stdout",
     "output_type": "stream",
     "text": [
      "/content/drive/MyDrive/project_speech/pytorch-StarGAN-VC\n"
     ]
    }
   ],
   "source": [
    "!pwd"
   ]
  },
  {
   "cell_type": "code",
   "execution_count": null,
   "metadata": {
    "id": "VCWm00ypjnyL"
   },
   "outputs": [],
   "source": [
    "# !python preprocess.py "
   ]
  },
  {
   "cell_type": "code",
   "execution_count": null,
   "metadata": {
    "colab": {
     "base_uri": "https://localhost:8080/"
    },
    "id": "_JQrKdujjwA-",
    "outputId": "1439c849-9307-4f54-e06f-0a438ae897af"
   },
   "outputs": [
    {
     "name": "stdout",
     "output_type": "stream",
     "text": [
      "Namespace(batch_size=4, beta1=0.5, beta2=0.999, c_lr=0.0001, d_lr=0.0001, data_dir='data/processed', g_lr=0.0001, lambda_cls=2, lambda_cycle=3, lambda_identity=2, log_dir='starganvc/logs', log_step=10, lr_update_step=100000, mode='train', model_save_dir='starganvc/models', model_save_step=10000, n_critic=5, num_iters=200000, num_iters_decay=100000, num_workers=4, result_dir='starganvc/results', resume_iters=150000, sample_dir='starganvc/samples', sample_step=2000, src_speaker=None, test_dir='data/speakers_test', test_iters=200000, trg_speaker=\"['SF1', 'TM1']\", use_tensorboard=True)\n",
      "/usr/local/lib/python3.7/dist-packages/torch/utils/data/dataloader.py:481: UserWarning: This DataLoader will create 4 worker processes in total. Our suggested max number of worker in current system is 2, which is smaller than what this DataLoader is going to create. Please be aware that excessive worker creation might get DataLoader running slow or even freeze, lower the worker number to avoid potential slowness/freeze if necessary.\n",
      "  cpuset_checked))\n",
      "Generator(\n",
      "  (downsample): Sequential(\n",
      "    (0): Down2d(\n",
      "      (c1): Conv2d(1, 32, kernel_size=(3, 9), stride=(1, 1), padding=(1, 4))\n",
      "      (n1): InstanceNorm2d(32, eps=1e-05, momentum=0.1, affine=False, track_running_stats=False)\n",
      "      (c2): Conv2d(1, 32, kernel_size=(3, 9), stride=(1, 1), padding=(1, 4))\n",
      "      (n2): InstanceNorm2d(32, eps=1e-05, momentum=0.1, affine=False, track_running_stats=False)\n",
      "    )\n",
      "    (1): Down2d(\n",
      "      (c1): Conv2d(32, 64, kernel_size=(4, 8), stride=(2, 2), padding=(1, 3))\n",
      "      (n1): InstanceNorm2d(64, eps=1e-05, momentum=0.1, affine=False, track_running_stats=False)\n",
      "      (c2): Conv2d(32, 64, kernel_size=(4, 8), stride=(2, 2), padding=(1, 3))\n",
      "      (n2): InstanceNorm2d(64, eps=1e-05, momentum=0.1, affine=False, track_running_stats=False)\n",
      "    )\n",
      "    (2): Down2d(\n",
      "      (c1): Conv2d(64, 128, kernel_size=(4, 8), stride=(2, 2), padding=(1, 3))\n",
      "      (n1): InstanceNorm2d(128, eps=1e-05, momentum=0.1, affine=False, track_running_stats=False)\n",
      "      (c2): Conv2d(64, 128, kernel_size=(4, 8), stride=(2, 2), padding=(1, 3))\n",
      "      (n2): InstanceNorm2d(128, eps=1e-05, momentum=0.1, affine=False, track_running_stats=False)\n",
      "    )\n",
      "    (3): Down2d(\n",
      "      (c1): Conv2d(128, 64, kernel_size=(3, 5), stride=(1, 1), padding=(1, 2))\n",
      "      (n1): InstanceNorm2d(64, eps=1e-05, momentum=0.1, affine=False, track_running_stats=False)\n",
      "      (c2): Conv2d(128, 64, kernel_size=(3, 5), stride=(1, 1), padding=(1, 2))\n",
      "      (n2): InstanceNorm2d(64, eps=1e-05, momentum=0.1, affine=False, track_running_stats=False)\n",
      "    )\n",
      "    (4): Down2d(\n",
      "      (c1): Conv2d(64, 5, kernel_size=(9, 5), stride=(9, 1), padding=(1, 2))\n",
      "      (n1): InstanceNorm2d(5, eps=1e-05, momentum=0.1, affine=False, track_running_stats=False)\n",
      "      (c2): Conv2d(64, 5, kernel_size=(9, 5), stride=(9, 1), padding=(1, 2))\n",
      "      (n2): InstanceNorm2d(5, eps=1e-05, momentum=0.1, affine=False, track_running_stats=False)\n",
      "    )\n",
      "  )\n",
      "  (up1): Up2d(\n",
      "    (c1): ConvTranspose2d(9, 64, kernel_size=(9, 5), stride=(9, 1), padding=(0, 2))\n",
      "    (n1): InstanceNorm2d(64, eps=1e-05, momentum=0.1, affine=False, track_running_stats=False)\n",
      "    (c2): ConvTranspose2d(9, 64, kernel_size=(9, 5), stride=(9, 1), padding=(0, 2))\n",
      "    (n2): InstanceNorm2d(64, eps=1e-05, momentum=0.1, affine=False, track_running_stats=False)\n",
      "  )\n",
      "  (up2): Up2d(\n",
      "    (c1): ConvTranspose2d(68, 128, kernel_size=(3, 5), stride=(1, 1), padding=(1, 2))\n",
      "    (n1): InstanceNorm2d(128, eps=1e-05, momentum=0.1, affine=False, track_running_stats=False)\n",
      "    (c2): ConvTranspose2d(68, 128, kernel_size=(3, 5), stride=(1, 1), padding=(1, 2))\n",
      "    (n2): InstanceNorm2d(128, eps=1e-05, momentum=0.1, affine=False, track_running_stats=False)\n",
      "  )\n",
      "  (up3): Up2d(\n",
      "    (c1): ConvTranspose2d(132, 64, kernel_size=(4, 8), stride=(2, 2), padding=(1, 3))\n",
      "    (n1): InstanceNorm2d(64, eps=1e-05, momentum=0.1, affine=False, track_running_stats=False)\n",
      "    (c2): ConvTranspose2d(132, 64, kernel_size=(4, 8), stride=(2, 2), padding=(1, 3))\n",
      "    (n2): InstanceNorm2d(64, eps=1e-05, momentum=0.1, affine=False, track_running_stats=False)\n",
      "  )\n",
      "  (up4): Up2d(\n",
      "    (c1): ConvTranspose2d(68, 32, kernel_size=(4, 8), stride=(2, 2), padding=(1, 3))\n",
      "    (n1): InstanceNorm2d(32, eps=1e-05, momentum=0.1, affine=False, track_running_stats=False)\n",
      "    (c2): ConvTranspose2d(68, 32, kernel_size=(4, 8), stride=(2, 2), padding=(1, 3))\n",
      "    (n2): InstanceNorm2d(32, eps=1e-05, momentum=0.1, affine=False, track_running_stats=False)\n",
      "  )\n",
      "  (deconv): ConvTranspose2d(36, 1, kernel_size=(3, 9), stride=(1, 1), padding=(1, 4))\n",
      ")\n",
      "G\n",
      "The number of parameters: 1926679\n",
      "Discriminator(\n",
      "  (d1): Down2d(\n",
      "    (c1): Conv2d(5, 32, kernel_size=(3, 9), stride=(1, 1), padding=(1, 4))\n",
      "    (n1): InstanceNorm2d(32, eps=1e-05, momentum=0.1, affine=False, track_running_stats=False)\n",
      "    (c2): Conv2d(5, 32, kernel_size=(3, 9), stride=(1, 1), padding=(1, 4))\n",
      "    (n2): InstanceNorm2d(32, eps=1e-05, momentum=0.1, affine=False, track_running_stats=False)\n",
      "  )\n",
      "  (d2): Down2d(\n",
      "    (c1): Conv2d(36, 32, kernel_size=(3, 8), stride=(1, 2), padding=(1, 3))\n",
      "    (n1): InstanceNorm2d(32, eps=1e-05, momentum=0.1, affine=False, track_running_stats=False)\n",
      "    (c2): Conv2d(36, 32, kernel_size=(3, 8), stride=(1, 2), padding=(1, 3))\n",
      "    (n2): InstanceNorm2d(32, eps=1e-05, momentum=0.1, affine=False, track_running_stats=False)\n",
      "  )\n",
      "  (d3): Down2d(\n",
      "    (c1): Conv2d(36, 32, kernel_size=(3, 8), stride=(1, 2), padding=(1, 3))\n",
      "    (n1): InstanceNorm2d(32, eps=1e-05, momentum=0.1, affine=False, track_running_stats=False)\n",
      "    (c2): Conv2d(36, 32, kernel_size=(3, 8), stride=(1, 2), padding=(1, 3))\n",
      "    (n2): InstanceNorm2d(32, eps=1e-05, momentum=0.1, affine=False, track_running_stats=False)\n",
      "  )\n",
      "  (d4): Down2d(\n",
      "    (c1): Conv2d(36, 32, kernel_size=(3, 6), stride=(1, 2), padding=(1, 2))\n",
      "    (n1): InstanceNorm2d(32, eps=1e-05, momentum=0.1, affine=False, track_running_stats=False)\n",
      "    (c2): Conv2d(36, 32, kernel_size=(3, 6), stride=(1, 2), padding=(1, 2))\n",
      "    (n2): InstanceNorm2d(32, eps=1e-05, momentum=0.1, affine=False, track_running_stats=False)\n",
      "  )\n",
      "  (conv): Conv2d(36, 1, kernel_size=(36, 5), stride=(36, 1), padding=(0, 2))\n",
      "  (pool): AvgPool2d(kernel_size=(1, 64), stride=(1, 64), padding=0)\n",
      ")\n",
      "D\n",
      "The number of parameters: 167441\n",
      "DomainClassifier(\n",
      "  (main): Sequential(\n",
      "    (0): Down2d(\n",
      "      (c1): Conv2d(1, 8, kernel_size=(4, 4), stride=(2, 2), padding=(5, 1))\n",
      "      (n1): InstanceNorm2d(8, eps=1e-05, momentum=0.1, affine=False, track_running_stats=False)\n",
      "      (c2): Conv2d(1, 8, kernel_size=(4, 4), stride=(2, 2), padding=(5, 1))\n",
      "      (n2): InstanceNorm2d(8, eps=1e-05, momentum=0.1, affine=False, track_running_stats=False)\n",
      "    )\n",
      "    (1): Down2d(\n",
      "      (c1): Conv2d(8, 16, kernel_size=(4, 4), stride=(2, 2), padding=(1, 1))\n",
      "      (n1): InstanceNorm2d(16, eps=1e-05, momentum=0.1, affine=False, track_running_stats=False)\n",
      "      (c2): Conv2d(8, 16, kernel_size=(4, 4), stride=(2, 2), padding=(1, 1))\n",
      "      (n2): InstanceNorm2d(16, eps=1e-05, momentum=0.1, affine=False, track_running_stats=False)\n",
      "    )\n",
      "    (2): Down2d(\n",
      "      (c1): Conv2d(16, 32, kernel_size=(4, 4), stride=(2, 2), padding=(0, 1))\n",
      "      (n1): InstanceNorm2d(32, eps=1e-05, momentum=0.1, affine=False, track_running_stats=False)\n",
      "      (c2): Conv2d(16, 32, kernel_size=(4, 4), stride=(2, 2), padding=(0, 1))\n",
      "      (n2): InstanceNorm2d(32, eps=1e-05, momentum=0.1, affine=False, track_running_stats=False)\n",
      "    )\n",
      "    (3): Down2d(\n",
      "      (c1): Conv2d(32, 16, kernel_size=(3, 4), stride=(1, 2), padding=(1, 1))\n",
      "      (n1): InstanceNorm2d(16, eps=1e-05, momentum=0.1, affine=False, track_running_stats=False)\n",
      "      (c2): Conv2d(32, 16, kernel_size=(3, 4), stride=(1, 2), padding=(1, 1))\n",
      "      (n2): InstanceNorm2d(16, eps=1e-05, momentum=0.1, affine=False, track_running_stats=False)\n",
      "    )\n",
      "    (4): Conv2d(16, 4, kernel_size=(1, 4), stride=(1, 2), padding=(0, 1))\n",
      "    (5): AvgPool2d(kernel_size=(1, 16), stride=(1, 16), padding=0)\n",
      "    (6): LogSoftmax(dim=None)\n",
      "  )\n",
      ")\n",
      "C\n",
      "The number of parameters: 33428\n",
      "2022-03-29 09:18:27.723577: E tensorflow/stream_executor/cuda/cuda_driver.cc:271] failed call to cuInit: CUDA_ERROR_NO_DEVICE: no CUDA-capable device is detected\n",
      "resuming step 150000 ...\n",
      "Loading the trained models from step 150000...\n",
      "/usr/local/lib/python3.7/dist-packages/torch/utils/data/dataloader.py:481: UserWarning: This DataLoader will create 4 worker processes in total. Our suggested max number of worker in current system is 2, which is smaller than what this DataLoader is going to create. Please be aware that excessive worker creation might get DataLoader running slow or even freeze, lower the worker number to avoid potential slowness/freeze if necessary.\n",
      "  cpuset_checked))\n",
      "Start training......\n",
      "/usr/local/lib/python3.7/dist-packages/torch/nn/modules/container.py:141: UserWarning: Implicit dimension choice for log_softmax has been deprecated. Change the call to include dim=X as an argument.\n",
      "  input = module(input)\n",
      "Elapsed [0:01:34], Iteration [150010/200000], C/C_loss: 0.0000, D/D_loss: 0.7869, G/loss_fake: 1.0715, G/loss_rec: 0.7340, G/loss_cls: 0.0000, G/loss_id: 0.7442, G/g_loss: 4.7619\n"
     ]
    }
   ],
   "source": [
    "!python main.py --resume_iters 150000"
   ]
  },
  {
   "cell_type": "code",
   "execution_count": 24,
   "metadata": {
    "colab": {
     "base_uri": "https://localhost:8080/"
    },
    "executionInfo": {
     "elapsed": 10284,
     "status": "ok",
     "timestamp": 1648531416363,
     "user": {
      "displayName": "Zat Singh",
      "userId": "14089293020842727171"
     },
     "user_tz": -330
    },
    "id": "wg6OmO6CoTuh",
    "outputId": "4c87a1f9-423c-4cba-c87e-770921b7abe5"
   },
   "outputs": [
    {
     "name": "stdout",
     "output_type": "stream",
     "text": [
      "Namespace(batch_size=4, beta1=0.5, beta2=0.999, c_lr=0.0001, d_lr=0.0001, data_dir='data/processed', g_lr=0.0001, lambda_cls=2, lambda_cycle=3, lambda_identity=2, log_dir='starganvc/logs', log_step=10, lr_update_step=100000, mode='test', model_save_dir='starganvc/models', model_save_step=10000, n_critic=5, num_iters=200000, num_iters_decay=100000, num_workers=4, result_dir='starganvc/results', resume_iters=None, sample_dir='starganvc/samples', sample_step=2000, src_speaker='SF2', test_dir='data/speakers_test', test_iters=90000, trg_speaker=\"['TM1','SF1']\", use_tensorboard=True)\n",
      "/usr/local/lib/python3.7/dist-packages/torch/utils/data/dataloader.py:481: UserWarning: This DataLoader will create 4 worker processes in total. Our suggested max number of worker in current system is 2, which is smaller than what this DataLoader is going to create. Please be aware that excessive worker creation might get DataLoader running slow or even freeze, lower the worker number to avoid potential slowness/freeze if necessary.\n",
      "  cpuset_checked))\n",
      "Generator(\n",
      "  (downsample): Sequential(\n",
      "    (0): Down2d(\n",
      "      (c1): Conv2d(1, 32, kernel_size=(3, 9), stride=(1, 1), padding=(1, 4))\n",
      "      (n1): InstanceNorm2d(32, eps=1e-05, momentum=0.1, affine=False, track_running_stats=False)\n",
      "      (c2): Conv2d(1, 32, kernel_size=(3, 9), stride=(1, 1), padding=(1, 4))\n",
      "      (n2): InstanceNorm2d(32, eps=1e-05, momentum=0.1, affine=False, track_running_stats=False)\n",
      "    )\n",
      "    (1): Down2d(\n",
      "      (c1): Conv2d(32, 64, kernel_size=(4, 8), stride=(2, 2), padding=(1, 3))\n",
      "      (n1): InstanceNorm2d(64, eps=1e-05, momentum=0.1, affine=False, track_running_stats=False)\n",
      "      (c2): Conv2d(32, 64, kernel_size=(4, 8), stride=(2, 2), padding=(1, 3))\n",
      "      (n2): InstanceNorm2d(64, eps=1e-05, momentum=0.1, affine=False, track_running_stats=False)\n",
      "    )\n",
      "    (2): Down2d(\n",
      "      (c1): Conv2d(64, 128, kernel_size=(4, 8), stride=(2, 2), padding=(1, 3))\n",
      "      (n1): InstanceNorm2d(128, eps=1e-05, momentum=0.1, affine=False, track_running_stats=False)\n",
      "      (c2): Conv2d(64, 128, kernel_size=(4, 8), stride=(2, 2), padding=(1, 3))\n",
      "      (n2): InstanceNorm2d(128, eps=1e-05, momentum=0.1, affine=False, track_running_stats=False)\n",
      "    )\n",
      "    (3): Down2d(\n",
      "      (c1): Conv2d(128, 64, kernel_size=(3, 5), stride=(1, 1), padding=(1, 2))\n",
      "      (n1): InstanceNorm2d(64, eps=1e-05, momentum=0.1, affine=False, track_running_stats=False)\n",
      "      (c2): Conv2d(128, 64, kernel_size=(3, 5), stride=(1, 1), padding=(1, 2))\n",
      "      (n2): InstanceNorm2d(64, eps=1e-05, momentum=0.1, affine=False, track_running_stats=False)\n",
      "    )\n",
      "    (4): Down2d(\n",
      "      (c1): Conv2d(64, 5, kernel_size=(9, 5), stride=(9, 1), padding=(1, 2))\n",
      "      (n1): InstanceNorm2d(5, eps=1e-05, momentum=0.1, affine=False, track_running_stats=False)\n",
      "      (c2): Conv2d(64, 5, kernel_size=(9, 5), stride=(9, 1), padding=(1, 2))\n",
      "      (n2): InstanceNorm2d(5, eps=1e-05, momentum=0.1, affine=False, track_running_stats=False)\n",
      "    )\n",
      "  )\n",
      "  (up1): Up2d(\n",
      "    (c1): ConvTranspose2d(9, 64, kernel_size=(9, 5), stride=(9, 1), padding=(0, 2))\n",
      "    (n1): InstanceNorm2d(64, eps=1e-05, momentum=0.1, affine=False, track_running_stats=False)\n",
      "    (c2): ConvTranspose2d(9, 64, kernel_size=(9, 5), stride=(9, 1), padding=(0, 2))\n",
      "    (n2): InstanceNorm2d(64, eps=1e-05, momentum=0.1, affine=False, track_running_stats=False)\n",
      "  )\n",
      "  (up2): Up2d(\n",
      "    (c1): ConvTranspose2d(68, 128, kernel_size=(3, 5), stride=(1, 1), padding=(1, 2))\n",
      "    (n1): InstanceNorm2d(128, eps=1e-05, momentum=0.1, affine=False, track_running_stats=False)\n",
      "    (c2): ConvTranspose2d(68, 128, kernel_size=(3, 5), stride=(1, 1), padding=(1, 2))\n",
      "    (n2): InstanceNorm2d(128, eps=1e-05, momentum=0.1, affine=False, track_running_stats=False)\n",
      "  )\n",
      "  (up3): Up2d(\n",
      "    (c1): ConvTranspose2d(132, 64, kernel_size=(4, 8), stride=(2, 2), padding=(1, 3))\n",
      "    (n1): InstanceNorm2d(64, eps=1e-05, momentum=0.1, affine=False, track_running_stats=False)\n",
      "    (c2): ConvTranspose2d(132, 64, kernel_size=(4, 8), stride=(2, 2), padding=(1, 3))\n",
      "    (n2): InstanceNorm2d(64, eps=1e-05, momentum=0.1, affine=False, track_running_stats=False)\n",
      "  )\n",
      "  (up4): Up2d(\n",
      "    (c1): ConvTranspose2d(68, 32, kernel_size=(4, 8), stride=(2, 2), padding=(1, 3))\n",
      "    (n1): InstanceNorm2d(32, eps=1e-05, momentum=0.1, affine=False, track_running_stats=False)\n",
      "    (c2): ConvTranspose2d(68, 32, kernel_size=(4, 8), stride=(2, 2), padding=(1, 3))\n",
      "    (n2): InstanceNorm2d(32, eps=1e-05, momentum=0.1, affine=False, track_running_stats=False)\n",
      "  )\n",
      "  (deconv): ConvTranspose2d(36, 1, kernel_size=(3, 9), stride=(1, 1), padding=(1, 4))\n",
      ")\n",
      "G\n",
      "The number of parameters: 1926679\n",
      "Discriminator(\n",
      "  (d1): Down2d(\n",
      "    (c1): Conv2d(5, 32, kernel_size=(3, 9), stride=(1, 1), padding=(1, 4))\n",
      "    (n1): InstanceNorm2d(32, eps=1e-05, momentum=0.1, affine=False, track_running_stats=False)\n",
      "    (c2): Conv2d(5, 32, kernel_size=(3, 9), stride=(1, 1), padding=(1, 4))\n",
      "    (n2): InstanceNorm2d(32, eps=1e-05, momentum=0.1, affine=False, track_running_stats=False)\n",
      "  )\n",
      "  (d2): Down2d(\n",
      "    (c1): Conv2d(36, 32, kernel_size=(3, 8), stride=(1, 2), padding=(1, 3))\n",
      "    (n1): InstanceNorm2d(32, eps=1e-05, momentum=0.1, affine=False, track_running_stats=False)\n",
      "    (c2): Conv2d(36, 32, kernel_size=(3, 8), stride=(1, 2), padding=(1, 3))\n",
      "    (n2): InstanceNorm2d(32, eps=1e-05, momentum=0.1, affine=False, track_running_stats=False)\n",
      "  )\n",
      "  (d3): Down2d(\n",
      "    (c1): Conv2d(36, 32, kernel_size=(3, 8), stride=(1, 2), padding=(1, 3))\n",
      "    (n1): InstanceNorm2d(32, eps=1e-05, momentum=0.1, affine=False, track_running_stats=False)\n",
      "    (c2): Conv2d(36, 32, kernel_size=(3, 8), stride=(1, 2), padding=(1, 3))\n",
      "    (n2): InstanceNorm2d(32, eps=1e-05, momentum=0.1, affine=False, track_running_stats=False)\n",
      "  )\n",
      "  (d4): Down2d(\n",
      "    (c1): Conv2d(36, 32, kernel_size=(3, 6), stride=(1, 2), padding=(1, 2))\n",
      "    (n1): InstanceNorm2d(32, eps=1e-05, momentum=0.1, affine=False, track_running_stats=False)\n",
      "    (c2): Conv2d(36, 32, kernel_size=(3, 6), stride=(1, 2), padding=(1, 2))\n",
      "    (n2): InstanceNorm2d(32, eps=1e-05, momentum=0.1, affine=False, track_running_stats=False)\n",
      "  )\n",
      "  (conv): Conv2d(36, 1, kernel_size=(36, 5), stride=(36, 1), padding=(0, 2))\n",
      "  (pool): AvgPool2d(kernel_size=(1, 64), stride=(1, 64), padding=0)\n",
      ")\n",
      "D\n",
      "The number of parameters: 167441\n",
      "DomainClassifier(\n",
      "  (main): Sequential(\n",
      "    (0): Down2d(\n",
      "      (c1): Conv2d(1, 8, kernel_size=(4, 4), stride=(2, 2), padding=(5, 1))\n",
      "      (n1): InstanceNorm2d(8, eps=1e-05, momentum=0.1, affine=False, track_running_stats=False)\n",
      "      (c2): Conv2d(1, 8, kernel_size=(4, 4), stride=(2, 2), padding=(5, 1))\n",
      "      (n2): InstanceNorm2d(8, eps=1e-05, momentum=0.1, affine=False, track_running_stats=False)\n",
      "    )\n",
      "    (1): Down2d(\n",
      "      (c1): Conv2d(8, 16, kernel_size=(4, 4), stride=(2, 2), padding=(1, 1))\n",
      "      (n1): InstanceNorm2d(16, eps=1e-05, momentum=0.1, affine=False, track_running_stats=False)\n",
      "      (c2): Conv2d(8, 16, kernel_size=(4, 4), stride=(2, 2), padding=(1, 1))\n",
      "      (n2): InstanceNorm2d(16, eps=1e-05, momentum=0.1, affine=False, track_running_stats=False)\n",
      "    )\n",
      "    (2): Down2d(\n",
      "      (c1): Conv2d(16, 32, kernel_size=(4, 4), stride=(2, 2), padding=(0, 1))\n",
      "      (n1): InstanceNorm2d(32, eps=1e-05, momentum=0.1, affine=False, track_running_stats=False)\n",
      "      (c2): Conv2d(16, 32, kernel_size=(4, 4), stride=(2, 2), padding=(0, 1))\n",
      "      (n2): InstanceNorm2d(32, eps=1e-05, momentum=0.1, affine=False, track_running_stats=False)\n",
      "    )\n",
      "    (3): Down2d(\n",
      "      (c1): Conv2d(32, 16, kernel_size=(3, 4), stride=(1, 2), padding=(1, 1))\n",
      "      (n1): InstanceNorm2d(16, eps=1e-05, momentum=0.1, affine=False, track_running_stats=False)\n",
      "      (c2): Conv2d(32, 16, kernel_size=(3, 4), stride=(1, 2), padding=(1, 1))\n",
      "      (n2): InstanceNorm2d(16, eps=1e-05, momentum=0.1, affine=False, track_running_stats=False)\n",
      "    )\n",
      "    (4): Conv2d(16, 4, kernel_size=(1, 4), stride=(1, 2), padding=(0, 1))\n",
      "    (5): AvgPool2d(kernel_size=(1, 16), stride=(1, 16), padding=0)\n",
      "    (6): LogSoftmax(dim=None)\n",
      "  )\n",
      ")\n",
      "C\n",
      "The number of parameters: 33428\n",
      "2022-03-29 05:23:34.950571: W tensorflow/core/common_runtime/gpu/gpu_bfc_allocator.cc:39] Overriding allow_growth setting because the TF_FORCE_GPU_ALLOW_GROWTH environment variable is set. Original config value was 0.\n",
      "Loading the trained models from step 90000...\n",
      "TM1\n",
      "SF1\n"
     ]
    }
   ],
   "source": [
    "!python main.py --mode test --test_iters 90000 --src_speaker SF2 --trg_speaker \"['TM1','SF1']\"\n"
   ]
  }
 ],
 "metadata": {
  "colab": {
   "collapsed_sections": [],
   "name": "StarGan_VC_Pytorch.ipynb",
   "provenance": []
  },
  "kernelspec": {
   "display_name": "Python 3",
   "language": "python",
   "name": "python3"
  },
  "language_info": {
   "codemirror_mode": {
    "name": "ipython",
    "version": 3
   },
   "file_extension": ".py",
   "mimetype": "text/x-python",
   "name": "python",
   "nbconvert_exporter": "python",
   "pygments_lexer": "ipython3",
   "version": "3.8.8"
  }
 },
 "nbformat": 4,
 "nbformat_minor": 1
}
